{
 "cells": [
  {
   "cell_type": "markdown",
   "id": "ca773764",
   "metadata": {},
   "source": [
    "#### Q1: Write a Python function that removes duplicates from a list without using any library functions. "
   ]
  },
  {
   "cell_type": "code",
   "execution_count": null,
   "id": "2ea9793f",
   "metadata": {
    "vscode": {
     "languageId": "plaintext"
    }
   },
   "outputs": [],
   "source": []
  },
  {
   "cell_type": "markdown",
   "id": "6d3156e3",
   "metadata": {},
   "source": [
    "####  Q2: How would you debug a piece of code that’s failing due to an unknown exception?"
   ]
  },
  {
   "cell_type": "code",
   "execution_count": null,
   "id": "05d136df",
   "metadata": {
    "vscode": {
     "languageId": "plaintext"
    }
   },
   "outputs": [],
   "source": []
  },
  {
   "cell_type": "markdown",
   "id": "f90a131f",
   "metadata": {},
   "source": [
    "####  Q3: Demonstrate how you would use recursion in Python to solve a common algorithmic problem."
   ]
  },
  {
   "cell_type": "code",
   "execution_count": null,
   "id": "e76e3c1f",
   "metadata": {
    "vscode": {
     "languageId": "plaintext"
    }
   },
   "outputs": [],
   "source": []
  },
  {
   "cell_type": "markdown",
   "id": "00332b60",
   "metadata": {},
   "source": [
    "####  Q4: Explain the concept of closures in JavaScript and provide a practical use case."
   ]
  }
 ],
 "metadata": {
  "language_info": {
   "name": "python"
  }
 },
 "nbformat": 4,
 "nbformat_minor": 5
}
